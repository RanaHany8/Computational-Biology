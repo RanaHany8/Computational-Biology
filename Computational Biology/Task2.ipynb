{
 "cells": [
  {
   "cell_type": "code",
   "execution_count": 20,
   "metadata": {},
   "outputs": [
    {
     "name": "stdout",
     "output_type": "stream",
     "text": [
      "Requirement already satisfied: pyteomics in c:\\users\\dell\\appdata\\local\\programs\\python\\python312\\lib\\site-packages (4.7.5)\n"
     ]
    }
   ],
   "source": [
    "! pip install pyteomics\n",
    "\n"
   ]
  },
  {
   "cell_type": "code",
   "execution_count": 21,
   "metadata": {},
   "outputs": [],
   "source": [
    "import pyopenms\n",
    "import re\n",
    "from collections import defaultdict"
   ]
  },
  {
   "cell_type": "code",
   "execution_count": 22,
   "metadata": {},
   "outputs": [
    {
     "name": "stdout",
     "output_type": "stream",
     "text": [
      "No isobaric peptides found.\n"
     ]
    }
   ],
   "source": [
    "from pyteomics import mass, parser\n",
    "\n",
    "# Input protein sequence\n",
    "protein_sequence = \"MKWVTFISLLFLFSSAYSRGVFRRDTHKSEIAHRFKDLGE\"\n",
    "\n",
    "# Define protease (Trypsin in this case)\n",
    "cleavage_rule = parser.expasy_rules['trypsin']\n",
    "\n",
    "# Perform in silico digestion\n",
    "peptides = parser.cleave(protein_sequence, cleavage_rule)\n",
    "\n",
    "# Compute monoisotopic mass for each peptide\n",
    "peptide_masses = {}\n",
    "for peptide in peptides:\n",
    "    peptide_mass = mass.calculate_mass(sequence=peptide)\n",
    "    if peptide_mass not in peptide_masses:\n",
    "        peptide_masses[peptide_mass] = []\n",
    "    peptide_masses[peptide_mass].append(peptide)\n",
    "\n",
    "# Identify isobaric peptides\n",
    "isobaric_peptides = {mass: seqs for mass, seqs in peptide_masses.items() if len(seqs) > 1}\n",
    "\n",
    "# Print results\n",
    "if isobaric_peptides:\n",
    "    print(\"Isobaric Peptides:\")\n",
    "    for mass, seqs in isobaric_peptides.items():\n",
    "        print(f\"Mass: {mass:.4f} Da, Sequences: {', '.join(seqs)}\")\n",
    "else:\n",
    "    print(\"No isobaric peptides found.\")\n",
    "\n",
    "\n",
    "\n"
   ]
  },
  {
   "cell_type": "code",
   "execution_count": 23,
   "metadata": {},
   "outputs": [
    {
     "name": "stdout",
     "output_type": "stream",
     "text": [
      "Protein Sequence:\n",
      "MTPNSMTENGLTAWDKPKHCPDREHDWKLVGMSEACLHRKSHSERRSTLKNEQSSPHLIQTTWTSSIFHLDHDDVNDQSVSSAQTFQTEEKKCKGYIPSYLDKDELCVVCGDKATGYHYRCITCEGCKGFFRRTIQKNLHPSYSCKYEGKCVIDKVTRNQCQECRFKKCIYVGMATDLVLDDSKRLAKRKLIEENREKRRREELQKSIGHKPEPTDEEWELIKTVTEAHVATNAQGSHWKQKRKFLPEDIGQAPIVNAPEGGKVDLEAFSHFTKIITPAITRVVDFAKKLPMFCELPCEDQIILLKGCCMEIMSLRAAVRYDPESETLTLNGEMAVTRGQLKNGGLGVVSDAIFDLGMSLSSFNLDDTEVALLQAVLLMSSDRPGLACVERIEKYQDSFLLAFEHYINYRKHHVTHFWPKLLMKVTDLRMIGACHASRFLHMKVECPTELFPPLFLEVFED\n",
      "\n"
     ]
    }
   ],
   "source": [
    "# Function to read the protein sequence from a FASTA file\n",
    "def load_protein_sequence(file_path):\n",
    "    with open(file_path, 'r') as file:\n",
    "        protein_sequence = \"\".join([line.strip() for line in file.readlines()[1:]])\n",
    "    return protein_sequence\n",
    "protein_sequence = load_protein_sequence(\"Tyroid.fasta\")\n",
    "print(f\"Protein Sequence:\\n{protein_sequence}\\n\")  # Print within the function\n",
    "   \n",
    "\n"
   ]
  },
  {
   "cell_type": "code",
   "execution_count": 24,
   "metadata": {},
   "outputs": [
    {
     "name": "stdout",
     "output_type": "stream",
     "text": [
      "Peptides after digestion:\n",
      "['MTPNSMTENGLTAWDKPK', 'HCPDR', 'EHDWK', 'LVGMSEACLHR', 'K', 'SHSER', 'R', 'STLK', 'NEQSSPHLIQTTWTSSIFHLDHDDVNDQSVSSAQTFQTEEK', 'K', 'CK', 'GYIPSYLDK', 'DELCVVCGDK', 'ATGYHYR', 'CITCEGCK', 'GFFR', 'R', 'TIQK', 'NLHPSYSCK', 'YEGK', 'CVIDK', 'VTR', 'NQCQECR', 'FK', 'K', 'CIYVGMATDLVLDDSK', 'R', 'LAK', 'R', 'K', 'LIEENR', 'EK', 'R', 'R', 'R', 'EELQK', 'SIGHKPEPTDEEWELIK', 'TVTEAHVATNAQGSHWK', 'QK', 'R', 'K', 'FLPEDIGQAPIVNAPEGGK', 'VDLEAFSHFTK', 'IITPAITR', 'VVDFAK', 'K', 'LPMFCELPCEDQIILLK', 'GCCMEIMSLR', 'AAVR', 'YDPESETLTLNGEMAVTR', 'GQLK', 'NGGLGVVSDAIFDLGMSLSSFNLDDTEVALLQAVLLMSSDRPGLACVER', 'IEK', 'YQDSFLLAFEHYINYR', 'K', 'HHVTHFWPK', 'LLMK', 'VTDLR', 'MIGACHASR', 'FLHMK', 'VECPTELFPPLFLEVFED']\n",
      "\n"
     ]
    }
   ],
   "source": [
    "# Function to perform protease digestion\n",
    "def protease_digest(protein_sequence, enzyme='trypsin'):\n",
    "    if enzyme == 'trypsin':\n",
    "        fragments = re.split(r'(?<=[KR])(?!P)', protein_sequence)\n",
    "    return fragments\n",
    "\n",
    "# Perform protease digestion\n",
    "protein_fragments = protease_digest(protein_sequence)\n",
    "\n",
    "# Print the fragments\n",
    "print(f\"Peptides after digestion:\\n{protein_fragments}\\n\")\n",
    "\n",
    "\n"
   ]
  },
  {
   "cell_type": "code",
   "execution_count": 16,
   "metadata": {},
   "outputs": [
    {
     "name": "stdout",
     "output_type": "stream",
     "text": [
      "Peptide Masses and Sequences:\n",
      "Mass: 2019.9394 Da ==> Fragments: ['MTPNSMTENGLTAWDKPK']\n",
      "Mass: 626.2595 Da ==> Fragments: ['HCPDR']\n",
      "Mass: 713.3133 Da ==> Fragments: ['EHDWK']\n",
      "Mass: 1214.5900 Da ==> Fragments: ['LVGMSEACLHR']\n",
      "Mass: 146.1055 Da ==> Fragments: ['K', 'K', 'K', 'K', 'K', 'K', 'K']\n",
      "Mass: 614.2772 Da ==> Fragments: ['SHSER']\n",
      "Mass: 174.1117 Da ==> Fragments: ['R', 'R', 'R', 'R', 'R', 'R', 'R', 'R']\n",
      "Mass: 447.2693 Da ==> Fragments: ['STLK']\n",
      "Mass: 4686.1383 Da ==> Fragments: ['NEQSSPHLIQTTWTSSIFHLDHDDVNDQSVSSAQTFQTEEK']\n",
      "Mass: 249.1147 Da ==> Fragments: ['CK']\n",
      "Mass: 1054.5335 Da ==> Fragments: ['GYIPSYLDK']\n",
      "Mass: 1079.4627 Da ==> Fragments: ['DELCVVCGDK']\n",
      "Mass: 866.4035 Da ==> Fragments: ['ATGYHYR']\n",
      "Mass: 855.3289 Da ==> Fragments: ['CITCEGCK']\n",
      "Mass: 525.2700 Da ==> Fragments: ['GFFR']\n",
      "Mass: 488.2959 Da ==> Fragments: ['TIQK']\n",
      "Mass: 1047.4808 Da ==> Fragments: ['NLHPSYSCK']\n",
      "Mass: 495.2329 Da ==> Fragments: ['YEGK']\n",
      "Mass: 576.2941 Da ==> Fragments: ['CVIDK']\n",
      "Mass: 374.2278 Da ==> Fragments: ['VTR']\n",
      "Mass: 879.3327 Da ==> Fragments: ['NQCQECR']\n",
      "Mass: 293.1739 Da ==> Fragments: ['FK']\n",
      "Mass: 1741.8267 Da ==> Fragments: ['CIYVGMATDLVLDDSK']\n",
      "Mass: 330.2267 Da ==> Fragments: ['LAK']\n",
      "Mass: 772.4079 Da ==> Fragments: ['LIEENR']\n",
      "Mass: 275.1481 Da ==> Fragments: ['EK']\n",
      "Mass: 645.3334 Da ==> Fragments: ['EELQK']\n",
      "Mass: 2006.9949 Da ==> Fragments: ['SIGHKPEPTDEEWELIK']\n",
      "Mass: 1835.8915 Da ==> Fragments: ['TVTEAHVATNAQGSHWK']\n",
      "Mass: 274.1641 Da ==> Fragments: ['QK']\n",
      "Mass: 1951.0051 Da ==> Fragments: ['FLPEDIGQAPIVNAPEGGK']\n",
      "Mass: 1292.6401 Da ==> Fragments: ['VDLEAFSHFTK']\n",
      "Mass: 883.5491 Da ==> Fragments: ['IITPAITR']\n",
      "Mass: 677.3748 Da ==> Fragments: ['VVDFAK']\n",
      "Mass: 2004.0134 Da ==> Fragments: ['LPMFCELPCEDQIILLK']\n",
      "Mass: 1141.4752 Da ==> Fragments: ['GCCMEIMSLR']\n",
      "Mass: 415.2543 Da ==> Fragments: ['AAVR']\n",
      "Mass: 2024.9361 Da ==> Fragments: ['YDPESETLTLNGEMAVTR']\n",
      "Mass: 444.2696 Da ==> Fragments: ['GQLK']\n",
      "Mass: 5094.5352 Da ==> Fragments: ['NGGLGVVSDAIFDLGMSLSSFNLDDTEVALLQAVLLMSSDRPGLACVER']\n",
      "Mass: 388.2322 Da ==> Fragments: ['IEK']\n",
      "Mass: 2077.9898 Da ==> Fragments: ['YQDSFLLAFEHYINYR']\n",
      "Mass: 1187.5989 Da ==> Fragments: ['HHVTHFWPK']\n",
      "Mass: 503.3141 Da ==> Fragments: ['LLMK']\n",
      "Mass: 602.3388 Da ==> Fragments: ['VTDLR']\n",
      "Mass: 944.4320 Da ==> Fragments: ['MIGACHASR']\n",
      "Mass: 674.3574 Da ==> Fragments: ['FLHMK']\n",
      "Mass: 2123.0173 Da ==> Fragments: ['VECPTELFPPLFLEVFED']\n"
     ]
    }
   ],
   "source": [
    "# Function to calculate the monoisotopic mass of a peptide\n",
    "def compute_peptide_mass(sequence_fragment):\n",
    "    peptide = pyopenms.AASequence.fromString(sequence_fragment)\n",
    "    return peptide.getMonoWeight()\n",
    "\n",
    "# Function to map peptides to their respective masses\n",
    "def map_peptides_to_masses(fragments):\n",
    "    peptide_mass_mapping = defaultdict(list)\n",
    "    for fragment in fragments:\n",
    "        mass = compute_peptide_mass(fragment)\n",
    "        peptide_mass_mapping[mass].append(fragment)\n",
    "    return peptide_mass_mapping\n",
    "peptide_mass_mapping = map_peptides_to_masses(protein_fragments)\n",
    "print(\"Peptide Masses and Sequences:\")  # Print within the function\n",
    "for mass, fragments in peptide_mass_mapping.items():\n",
    "    print(f\"Mass: {mass:.4f} Da ==> Fragments: {fragments}\")\n",
    "    "
   ]
  },
  {
   "cell_type": "code",
   "execution_count": 25,
   "metadata": {},
   "outputs": [
    {
     "name": "stdout",
     "output_type": "stream",
     "text": [
      "\n",
      "Isobaric Peptides Detected:\n",
      "Mass: 146.1055 Da\n",
      "Fragments: K | K | K | K | K | K | K\n",
      "Mass: 174.1117 Da\n",
      "Fragments: R | R | R | R | R | R | R | R\n"
     ]
    }
   ],
   "source": [
    "def identify_isobaric_peptides(mass_mapping):\n",
    "    isobaric_results = {}\n",
    "    for mass, fragment_list in mass_mapping.items():\n",
    "        if len(fragment_list) > 1:\n",
    "            isobaric_results[mass] = fragment_list\n",
    "    return isobaric_results\n",
    "\n",
    "isobaric_results = identify_isobaric_peptides(peptide_mass_mapping)\n",
    "\n",
    "if isobaric_results:\n",
    "        \n",
    "    print(\"\\nIsobaric Peptides Detected:\")  # Print within the function\n",
    "    for mass, fragments in isobaric_results.items():\n",
    "        formatted_fragments = \" | \".join(fragments)\n",
    "        print(f\"Mass: {mass:.4f} Da\")\n",
    "        print(f\"Fragments: {formatted_fragments}\")\n",
    "else:\n",
    "    print(\"\\nNo isobaric peptides were detected.\")  # Print within the function\n",
    "   \n"
   ]
  }
 ],
 "metadata": {
  "kernelspec": {
   "display_name": "Python 3",
   "language": "python",
   "name": "python3"
  },
  "language_info": {
   "codemirror_mode": {
    "name": "ipython",
    "version": 3
   },
   "file_extension": ".py",
   "mimetype": "text/x-python",
   "name": "python",
   "nbconvert_exporter": "python",
   "pygments_lexer": "ipython3",
   "version": "3.12.3"
  }
 },
 "nbformat": 4,
 "nbformat_minor": 2
}
